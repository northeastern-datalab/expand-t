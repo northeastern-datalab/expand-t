{
 "cells": [
  {
   "cell_type": "code",
   "execution_count": 1,
   "metadata": {},
   "outputs": [
    {
     "data": {
      "text/plain": [
       "'/home/gfan/gen-t-demo/code'"
      ]
     },
     "execution_count": 1,
     "metadata": {},
     "output_type": "execute_result"
    }
   ],
   "source": [
    "import os\n",
    "os.chdir('/home/gfan/gen-t-demo/code/')\n",
    "os.getcwd()"
   ]
  },
  {
   "cell_type": "code",
   "execution_count": 2,
   "metadata": {},
   "outputs": [],
   "source": [
    "from IPython.display import display\n",
    "# Parameters\n",
    "benchmark = \"t2d_gold\"\n",
    "source_table_name = \"table_471_1.csv\" # table_471, table_471_1 (with nulls injected), table_594, table_640\n",
    "# benchmark = \"tptr\"\n",
    "# source_table_name = \"psql_0_c_oj_asia.csv\" # psql_0_c_oj_asia, psql_8_s_ij_ps\n",
    "BENCHMARKPATH = '/home/gfan/Datasets/%s/' % (benchmark)  \n",
    "sim_threshold = 0.2 # for set similarity\n",
    "integration_timeout = 3600 # for integration"
   ]
  },
  {
   "cell_type": "code",
   "execution_count": 3,
   "metadata": {},
   "outputs": [
    {
     "name": "stdout",
     "output_type": "stream",
     "text": [
      "Source table table_471_1.csv has shape (100, 5)\n",
      "... Loaded in 514 data lake tables in 0.00 seconds\n"
     ]
    },
    {
     "name": "stderr",
     "output_type": "stream",
     "text": [
      "discovery/discover_candidates.py:94: VisibleDeprecationWarning: Creating an ndarray from ragged nested sequences (which is a list-or-tuple of lists-or-tuples-or ndarrays with different lengths or shapes) is deprecated. If you meant to do this, you must specify 'dtype=object' when creating the ndarray.\n",
      "  df = df.loc[np.bitwise_or.reduce(conditions, dtype=object)[0]].drop_duplicates().reset_index(drop=True)\n"
     ]
    },
    {
     "name": "stdout",
     "output_type": "stream",
     "text": [
      "12 Candidate Tables found for Source Table table_471_1.csv\n",
      "['table_536.csv', 'table_50.csv', 'table_187.csv', 'table_267.csv', 'table_594.csv', 'table_25.csv', 'table_244.csv', 'table_95.csv', 'table_640.csv', 'table_292.csv', 'table_674.csv', 'table_760.csv']\n"
     ]
    }
   ],
   "source": [
    "# Find Candidate Tables\n",
    "import sys\n",
    "sys.path.append(\"discovery/\")\n",
    "from discovery_utils import get_lake, get_starmie_candidates\n",
    "from discover_candidates import CandidateTables\n",
    "\n",
    "runStarmie = 0\n",
    "lake_dfs, all_lake_table_cols = get_lake(benchmark)\n",
    "source_candidates = []\n",
    "if runStarmie: \n",
    "    starmie_candidates = get_starmie_candidates(benchmark)\n",
    "    source_candidates = starmie_candidates[source_table_name.replace('.csv', '')]\n",
    "\n",
    "# Call CandidateTables to find candidates\n",
    "candidate_table_finder = CandidateTables(benchmark, sim_threshold,lake_dfs, all_lake_table_cols, source_candidates)\n",
    "candidateTablesFound, noCandidates = candidate_table_finder.find_candidates(source_table_name)\n",
    "if noCandidates: \n",
    "    print(f\"There were no candidates found (no candidate for key) for Source {source_table_name}\")\n",
    "else:\n",
    "    print(f\"{len(candidateTablesFound)} Candidate Tables found for Source Table {source_table_name}\")\n",
    "    print(list(candidateTablesFound.keys()))"
   ]
  },
  {
   "cell_type": "code",
   "execution_count": 4,
   "metadata": {},
   "outputs": [
    {
     "name": "stderr",
     "output_type": "stream",
     "text": [
      "/home/gfan/gen-t-demo/code/utils.py:66: VisibleDeprecationWarning: Creating an ndarray from ragged nested sequences (which is a list-or-tuple of lists-or-tuples-or ndarrays with different lengths or shapes) is deprecated. If you meant to do this, you must specify 'dtype=object' when creating the ndarray.\n",
      "  selectedTuplesDf = df.loc[np.bitwise_and.reduce(conditions)[0]].drop_duplicates().reset_index(drop=True)\n"
     ]
    },
    {
     "name": "stdout",
     "output_type": "stream",
     "text": [
      "From 12 candidate tables, found 6 originating tables\n",
      "['table_50.csv', 'table_267.csv', 'table_95.csv', 'table_674.csv', 'table_25.csv', 'table_244.csv']\n",
      "Matrix Initialization took 1.903 seconds, Traversal took 0.157 seconds\n"
     ]
    }
   ],
   "source": [
    "\n",
    "# Prune Candidate Tables to find the set of Originating Tables\n",
    "from prune_candidates import OriginatingTables\n",
    "# Call OriginatingTables to prune candidates to a set of originating tables\n",
    "originating_tables_finder = OriginatingTables(benchmark, candidateTablesFound)\n",
    "originating_tables, matrix_traversal_runtimes = originating_tables_finder.find_originating_tables(source_table_name)\n",
    "source_df = originating_tables_finder.source_table\n",
    "primary_key = originating_tables_finder.primary_key\n",
    "print(f\"From {len(candidateTablesFound)} candidate tables, found {len(originating_tables)} originating tables\")\n",
    "print(originating_tables)\n",
    "print(f\"Matrix Initialization took {matrix_traversal_runtimes['matrix_initialization'][0]:.3f} seconds, Traversal took {matrix_traversal_runtimes['matrix_traversal'][0]:.3f} seconds\")\n",
    "origin_tables_matched_cols = {}\n",
    "if originating_tables: origin_tables_matched_cols = {t: candidateTablesFound[t] for t in originating_tables}\n"
   ]
  },
  {
   "cell_type": "code",
   "execution_count": 5,
   "metadata": {},
   "outputs": [
    {
     "data": {
      "text/plain": [
       "'/home/gfan/gen-t-demo/code/integration'"
      ]
     },
     "execution_count": 5,
     "metadata": {},
     "output_type": "execute_result"
    }
   ],
   "source": [
    "import os\n",
    "os.chdir('integration/')\n",
    "os.getcwd()"
   ]
  },
  {
   "cell_type": "code",
   "execution_count": 6,
   "metadata": {},
   "outputs": [],
   "source": [
    "import pandas as pd\n",
    "def highlight_overlap_values(source_df, result_df, primary_key):\n",
    "    ##  Highlight overlapping values in reproduced table\n",
    "    # wrap overlapping values in astericks (*): f'**{x}**'\n",
    "    # highlight in light blue: f'\\033[1;36m{val}\\033[0m'\n",
    "    # highlight in blue: f'\\033[1;34m{x}\\033[0m'\n",
    "    # highlight in red: f'\\033[1;31m{x}\\033[0m'\n",
    "    # highlight in yellow: f'\\033[1;33m{x}\\033[0m'\n",
    "    for rowIndx in result_df.index:\n",
    "        key_val = result_df.iloc[rowIndx][primary_key]\n",
    "        try: \n",
    "            source_row_indx = source_df.index[source_df[primary_key] == key_val].tolist()[0]\n",
    "        except: continue\n",
    "        for col in [col for col in result_df.columns if col in source_df.columns]:\n",
    "            result_val = result_df.iloc[rowIndx][col]\n",
    "            source_val = source_df.iloc[source_row_indx][col]\n",
    "            if result_val == source_val or (pd.isna(result_val) and pd.isna(source_val)): \n",
    "                result_df.iloc[rowIndx,result_df.columns.get_loc(col)] = f'\\033[1;33m{result_val}\\033[0m'\n",
    "            if not pd.isna(result_val) and pd.isna(source_val):\n",
    "                result_df.iloc[rowIndx,result_df.columns.get_loc(col)] = f'\\033[1;36m{result_val}\\033[0m'\n",
    "                \n",
    "    return result_df"
   ]
  },
  {
   "cell_type": "code",
   "execution_count": 7,
   "metadata": {},
   "outputs": [
    {
     "name": "stdout",
     "output_type": "stream",
     "text": [
      "Imported 6 Originating Tables:  ['table_50.csv', 'table_267.csv', 'table_95.csv', 'table_674.csv', 'table_25.csv', 'table_244.csv']\n"
     ]
    },
    {
     "name": "stderr",
     "output_type": "stream",
     "text": [
      "/home/gfan/gen-t-demo/code/integration/integration_utils.py:407: VisibleDeprecationWarning: Creating an ndarray from ragged nested sequences (which is a list-or-tuple of lists-or-tuples-or ndarrays with different lengths or shapes) is deprecated. If you meant to do this, you must specify 'dtype=object' when creating the ndarray.\n",
      "  selectedTuples = df.loc[np.bitwise_and.reduce(conditions)[0]]\n",
      "/home/gfan/gen-t-demo/code/integration/integration_utils.py:81: SettingWithCopyWarning: \n",
      "A value is trying to be set on a copy of a slice from a DataFrame\n",
      "\n",
      "See the caveats in the documentation: https://pandas.pydata.org/pandas-docs/stable/user_guide/indexing.html#returning-a-view-versus-a-copy\n",
      "  table[colname][i] = \"null\"+ str(null_count)\n",
      "/home/gfan/miniconda3/envs/sdd/lib/python3.7/site-packages/pandas/core/indexing.py:1732: SettingWithCopyWarning: \n",
      "A value is trying to be set on a copy of a slice from a DataFrame\n",
      "\n",
      "See the caveats in the documentation: https://pandas.pydata.org/pandas-docs/stable/user_guide/indexing.html#returning-a-view-versus-a-copy\n",
      "  self._setitem_single_block(indexer, value, name)\n"
     ]
    },
    {
     "name": "stdout",
     "output_type": "stream",
     "text": [
      "Finished Complementation in 0.00 sec\n",
      "Finished Subsumption in 0.00 sec\n",
      "Output tuples: ( total 124 )\n",
      "Time taken FD algorithm: 0.54 sec\n",
      "-----x---------x--------x---\n",
      "Source Table has 100 rows, 5 columns\n",
      "Resulting Table has 115 rows, 5 columns with value similarity of 0.970.\n",
      "5 overlapping columns: ['Title', \"Fans' Rank\", 'Year', 'Director(s)', 'Overall Rank']\n",
      "-----x---------x--------x---\n",
      "Final Integration Result has Recall 0.850 and Precision 0.850\n"
     ]
    }
   ],
   "source": [
    "# Integrate set of originating tables to reproduce source table\n",
    "from tabulate import tabulate\n",
    "from targeted_integration import TableIntegration\n",
    "import integration_utils as utils \n",
    "import sys\n",
    "sys.path.append('../discovery/')\n",
    "from evaluatePaths import setTDR\n",
    "\n",
    "table_integrator = TableIntegration(benchmark, origin_tables_matched_cols, integration_timeout)\n",
    "timed_out, noCandidates, numOutputVals = table_integrator.integrate_tables(source_table_name)\n",
    "integration_result = table_integrator.reproducedSourceTable\n",
    "table_ops = table_integrator.tableOpsUsed\n",
    "TDR_recall, TDR_precision = setTDR(table_integrator.source_df, integration_result)\n",
    "print(f\"Final Integration Result has Recall {TDR_recall:.3f} and Precision {TDR_precision:.3f}\")\n",
    "# for op in table_ops:print(op)\n",
    "integration_result = utils.order_rows_cols(source_df, primary_key, integration_result)\n",
    "# integration_result_highlighted = utils.highlight_overlap_values_df(source_df, integration_result, primary_key)\n",
    "# '''\n",
    "# ==== Begin sample for paper\n",
    "sample_integration_df = integration_result.loc[integration_result[primary_key].isin(['Pulp Fiction', 'Citizen Kane', 'Star Wars'])]\n",
    "integration_result_highlighted = utils.highlight_overlap_values_df(source_df, sample_integration_df, primary_key) # for sample in paper\n",
    "#  ''' "
   ]
  },
  {
   "cell_type": "code",
   "execution_count": 8,
   "metadata": {},
   "outputs": [
    {
     "data": {
      "text/html": [
       "<style type=\"text/css\">\n",
       "#T_594b0_row0_col0, #T_594b0_row0_col1, #T_594b0_row0_col2, #T_594b0_row0_col3, #T_594b0_row0_col4, #T_594b0_row1_col0, #T_594b0_row1_col1, #T_594b0_row1_col2, #T_594b0_row1_col3, #T_594b0_row1_col4, #T_594b0_row2_col0, #T_594b0_row2_col1, #T_594b0_row2_col2, #T_594b0_row2_col4 {\n",
       "  background-color: khaki;\n",
       "  font-weight: bold;\n",
       "}\n",
       "#T_594b0_row2_col3 {\n",
       "  background-color: lightskyblue;\n",
       "  text-decoration: underline;\n",
       "}\n",
       "</style>\n",
       "<table id=\"T_594b0_\">\n",
       "  <thead>\n",
       "    <tr>\n",
       "      <th class=\"blank level0\" >&nbsp;</th>\n",
       "      <th class=\"col_heading level0 col0\" >Title</th>\n",
       "      <th class=\"col_heading level0 col1\" >Fans' Rank</th>\n",
       "      <th class=\"col_heading level0 col2\" >Year</th>\n",
       "      <th class=\"col_heading level0 col3\" >Director(s)</th>\n",
       "      <th class=\"col_heading level0 col4\" >Overall Rank</th>\n",
       "    </tr>\n",
       "  </thead>\n",
       "  <tbody>\n",
       "    <tr>\n",
       "      <th id=\"T_594b0_level0_row0\" class=\"row_heading level0 row0\" >0</th>\n",
       "      <td id=\"T_594b0_row0_col0\" class=\"data row0 col0\" >Pulp Fiction</td>\n",
       "      <td id=\"T_594b0_row0_col1\" class=\"data row0 col1\" >2</td>\n",
       "      <td id=\"T_594b0_row0_col2\" class=\"data row0 col2\" >1994</td>\n",
       "      <td id=\"T_594b0_row0_col3\" class=\"data row0 col3\" >Quentin Tarantino</td>\n",
       "      <td id=\"T_594b0_row0_col4\" class=\"data row0 col4\" >15</td>\n",
       "    </tr>\n",
       "    <tr>\n",
       "      <th id=\"T_594b0_level0_row1\" class=\"row_heading level0 row1\" >1</th>\n",
       "      <td id=\"T_594b0_row1_col0\" class=\"data row1 col0\" >Citizen Kane</td>\n",
       "      <td id=\"T_594b0_row1_col1\" class=\"data row1 col1\" >3</td>\n",
       "      <td id=\"T_594b0_row1_col2\" class=\"data row1 col2\" >1941</td>\n",
       "      <td id=\"T_594b0_row1_col3\" class=\"data row1 col3\" >Orson Welles</td>\n",
       "      <td id=\"T_594b0_row1_col4\" class=\"data row1 col4\" >2</td>\n",
       "    </tr>\n",
       "    <tr>\n",
       "      <th id=\"T_594b0_level0_row2\" class=\"row_heading level0 row2\" >2</th>\n",
       "      <td id=\"T_594b0_row2_col0\" class=\"data row2 col0\" >Star Wars</td>\n",
       "      <td id=\"T_594b0_row2_col1\" class=\"data row2 col1\" >5</td>\n",
       "      <td id=\"T_594b0_row2_col2\" class=\"data row2 col2\" >1977</td>\n",
       "      <td id=\"T_594b0_row2_col3\" class=\"data row2 col3\" >George Lucas</td>\n",
       "      <td id=\"T_594b0_row2_col4\" class=\"data row2 col4\" >8</td>\n",
       "    </tr>\n",
       "  </tbody>\n",
       "</table>\n"
      ],
      "text/plain": [
       "<pandas.io.formats.style.Styler at 0x7ff6bf4b8cd0>"
      ]
     },
     "execution_count": 8,
     "metadata": {},
     "output_type": "execute_result"
    }
   ],
   "source": [
    "integration_result_highlighted"
   ]
  },
  {
   "cell_type": "code",
   "execution_count": 9,
   "metadata": {},
   "outputs": [
    {
     "name": "stdout",
     "output_type": "stream",
     "text": [
      "Integrating raw Originating tables produces Table of shape (514, 8), with 4744 values\n",
      "Integrated Table has 3 new columns (514 tuples): Index(['Religion', 'Actor', 'Rank'], dtype='object')\n",
      "Integrated Table has 414 new tuples (8 columns)\n"
     ]
    },
    {
     "name": "stderr",
     "output_type": "stream",
     "text": [
      "/home/gfan/gen-t-demo/code/integration/integration_utils.py:81: SettingWithCopyWarning: \n",
      "A value is trying to be set on a copy of a slice from a DataFrame\n",
      "\n",
      "See the caveats in the documentation: https://pandas.pydata.org/pandas-docs/stable/user_guide/indexing.html#returning-a-view-versus-a-copy\n",
      "  table[colname][i] = \"null\"+ str(null_count)\n",
      "/home/gfan/miniconda3/envs/sdd/lib/python3.7/site-packages/pandas/core/indexing.py:1732: SettingWithCopyWarning: \n",
      "A value is trying to be set on a copy of a slice from a DataFrame\n",
      "\n",
      "See the caveats in the documentation: https://pandas.pydata.org/pandas-docs/stable/user_guide/indexing.html#returning-a-view-versus-a-copy\n",
      "  self._setitem_single_block(indexer, value, name)\n",
      "/home/gfan/gen-t-demo/code/integration/integration_utils.py:407: VisibleDeprecationWarning: Creating an ndarray from ragged nested sequences (which is a list-or-tuple of lists-or-tuples-or ndarrays with different lengths or shapes) is deprecated. If you meant to do this, you must specify 'dtype=object' when creating the ndarray.\n",
      "  selectedTuples = df.loc[np.bitwise_and.reduce(conditions)[0]]\n"
     ]
    },
    {
     "data": {
      "text/html": [
       "<style type=\"text/css\">\n",
       "#T_994d4_row0_col0, #T_994d4_row0_col1, #T_994d4_row0_col2, #T_994d4_row0_col3, #T_994d4_row0_col4, #T_994d4_row1_col0, #T_994d4_row1_col1, #T_994d4_row1_col2, #T_994d4_row1_col3, #T_994d4_row1_col4, #T_994d4_row2_col0, #T_994d4_row2_col1, #T_994d4_row2_col2, #T_994d4_row2_col4 {\n",
       "  background-color: khaki;\n",
       "  font-weight: bold;\n",
       "}\n",
       "#T_994d4_row0_col5, #T_994d4_row1_col5, #T_994d4_row2_col5, #T_994d4_row3_col5, #T_994d4_row4_col5, #T_994d4_row5_col5 {\n",
       "  background-color: coral;\n",
       "  font-style: italic;\n",
       "}\n",
       "#T_994d4_row2_col3 {\n",
       "  background-color: lightskyblue;\n",
       "  text-decoration: underline;\n",
       "}\n",
       "</style>\n",
       "<table id=\"T_994d4_\">\n",
       "  <thead>\n",
       "    <tr>\n",
       "      <th class=\"blank level0\" >&nbsp;</th>\n",
       "      <th class=\"col_heading level0 col0\" >Title</th>\n",
       "      <th class=\"col_heading level0 col1\" >Fans' Rank</th>\n",
       "      <th class=\"col_heading level0 col2\" >Year</th>\n",
       "      <th class=\"col_heading level0 col3\" >Director(s)</th>\n",
       "      <th class=\"col_heading level0 col4\" >Overall Rank</th>\n",
       "      <th class=\"col_heading level0 col5\" >Religion</th>\n",
       "      <th class=\"col_heading level0 col6\" >Actor</th>\n",
       "    </tr>\n",
       "  </thead>\n",
       "  <tbody>\n",
       "    <tr>\n",
       "      <th id=\"T_994d4_level0_row0\" class=\"row_heading level0 row0\" >0</th>\n",
       "      <td id=\"T_994d4_row0_col0\" class=\"data row0 col0\" >Pulp Fiction</td>\n",
       "      <td id=\"T_994d4_row0_col1\" class=\"data row0 col1\" >2</td>\n",
       "      <td id=\"T_994d4_row0_col2\" class=\"data row0 col2\" >1994</td>\n",
       "      <td id=\"T_994d4_row0_col3\" class=\"data row0 col3\" >Quentin Tarantino</td>\n",
       "      <td id=\"T_994d4_row0_col4\" class=\"data row0 col4\" >15</td>\n",
       "      <td id=\"T_994d4_row0_col5\" class=\"data row0 col5\" >Atheist</td>\n",
       "      <td id=\"T_994d4_row0_col6\" class=\"data row0 col6\" >John Travolta</td>\n",
       "    </tr>\n",
       "    <tr>\n",
       "      <th id=\"T_994d4_level0_row1\" class=\"row_heading level0 row1\" >1</th>\n",
       "      <td id=\"T_994d4_row1_col0\" class=\"data row1 col0\" >Citizen Kane</td>\n",
       "      <td id=\"T_994d4_row1_col1\" class=\"data row1 col1\" >3</td>\n",
       "      <td id=\"T_994d4_row1_col2\" class=\"data row1 col2\" >1941</td>\n",
       "      <td id=\"T_994d4_row1_col3\" class=\"data row1 col3\" >Orson Welles</td>\n",
       "      <td id=\"T_994d4_row1_col4\" class=\"data row1 col4\" >2</td>\n",
       "      <td id=\"T_994d4_row1_col5\" class=\"data row1 col5\" >nan</td>\n",
       "      <td id=\"T_994d4_row1_col6\" class=\"data row1 col6\" >Orson Welles</td>\n",
       "    </tr>\n",
       "    <tr>\n",
       "      <th id=\"T_994d4_level0_row2\" class=\"row_heading level0 row2\" >2</th>\n",
       "      <td id=\"T_994d4_row2_col0\" class=\"data row2 col0\" >Star Wars</td>\n",
       "      <td id=\"T_994d4_row2_col1\" class=\"data row2 col1\" >5</td>\n",
       "      <td id=\"T_994d4_row2_col2\" class=\"data row2 col2\" >1977</td>\n",
       "      <td id=\"T_994d4_row2_col3\" class=\"data row2 col3\" >George Lucas</td>\n",
       "      <td id=\"T_994d4_row2_col4\" class=\"data row2 col4\" >8</td>\n",
       "      <td id=\"T_994d4_row2_col5\" class=\"data row2 col5\" >nan</td>\n",
       "      <td id=\"T_994d4_row2_col6\" class=\"data row2 col6\" >nan</td>\n",
       "    </tr>\n",
       "    <tr>\n",
       "      <th id=\"T_994d4_level0_row3\" class=\"row_heading level0 row3\" >3</th>\n",
       "      <td id=\"T_994d4_row3_col0\" class=\"data row3 col0\" >Kill Bill: Vol. 2</td>\n",
       "      <td id=\"T_994d4_row3_col1\" class=\"data row3 col1\" >224</td>\n",
       "      <td id=\"T_994d4_row3_col2\" class=\"data row3 col2\" >2004</td>\n",
       "      <td id=\"T_994d4_row3_col3\" class=\"data row3 col3\" >Quentin Tarantino</td>\n",
       "      <td id=\"T_994d4_row3_col4\" class=\"data row3 col4\" >701</td>\n",
       "      <td id=\"T_994d4_row3_col5\" class=\"data row3 col5\" >nan</td>\n",
       "      <td id=\"T_994d4_row3_col6\" class=\"data row3 col6\" >nan</td>\n",
       "    </tr>\n",
       "    <tr>\n",
       "      <th id=\"T_994d4_level0_row4\" class=\"row_heading level0 row4\" >4</th>\n",
       "      <td id=\"T_994d4_row4_col0\" class=\"data row4 col0\" >Night of the Living Dead</td>\n",
       "      <td id=\"T_994d4_row4_col1\" class=\"data row4 col1\" >229</td>\n",
       "      <td id=\"T_994d4_row4_col2\" class=\"data row4 col2\" >1968</td>\n",
       "      <td id=\"T_994d4_row4_col3\" class=\"data row4 col3\" >George A. Romero</td>\n",
       "      <td id=\"T_994d4_row4_col4\" class=\"data row4 col4\" >139</td>\n",
       "      <td id=\"T_994d4_row4_col5\" class=\"data row4 col5\" >Christian</td>\n",
       "      <td id=\"T_994d4_row4_col6\" class=\"data row4 col6\" >nan</td>\n",
       "    </tr>\n",
       "    <tr>\n",
       "      <th id=\"T_994d4_level0_row5\" class=\"row_heading level0 row5\" >5</th>\n",
       "      <td id=\"T_994d4_row5_col0\" class=\"data row5 col0\" >O Brother, Where Art Thou?</td>\n",
       "      <td id=\"T_994d4_row5_col1\" class=\"data row5 col1\" >232</td>\n",
       "      <td id=\"T_994d4_row5_col2\" class=\"data row5 col2\" >2000</td>\n",
       "      <td id=\"T_994d4_row5_col3\" class=\"data row5 col3\" >Joel Coen</td>\n",
       "      <td id=\"T_994d4_row5_col4\" class=\"data row5 col4\" >776</td>\n",
       "      <td id=\"T_994d4_row5_col5\" class=\"data row5 col5\" >Jewish</td>\n",
       "      <td id=\"T_994d4_row5_col6\" class=\"data row5 col6\" >nan</td>\n",
       "    </tr>\n",
       "  </tbody>\n",
       "</table>\n"
      ],
      "text/plain": [
       "<pandas.io.formats.style.Styler at 0x7ff6bd5f00d0>"
      ]
     },
     "metadata": {},
     "output_type": "display_data"
    }
   ],
   "source": [
    "import numpy as np\n",
    "expanded_integ_result, new_cols, new_tuples = table_integrator.expand_tables('all', size=5000)\n",
    "# expanded_integration_result_highlighted = utils.highlight_overlap_values_df(source_df, expanded_integ_result, primary_key)\n",
    "# '''\n",
    "# ==== Begin sample for paper\n",
    "sample_integ_df = expanded_integ_result.loc[expanded_integ_result[primary_key].isin(['Pulp Fiction', 'Citizen Kane', 'Star Wars'])]\n",
    "sample_expand_df = expanded_integ_result.loc[expanded_integ_result[primary_key].isin(['Night of the Living Dead', 'Kill Bill: Vol. 2', 'O Brother, Where Art Thou?'])]\n",
    "df = pd.concat([sample_integ_df,sample_expand_df]).drop('Rank', axis=1)\n",
    "expanded_integration_result_highlighted = utils.highlight_overlap_values_df(source_df, df, primary_key) # for sample in paper\n",
    "# '''\n",
    "display(expanded_integration_result_highlighted)\n"
   ]
  },
  {
   "cell_type": "code",
   "execution_count": 10,
   "metadata": {},
   "outputs": [
    {
     "data": {
      "text/html": [
       "<style type=\"text/css\">\n",
       "#T_da8c4_row0_col0, #T_da8c4_row0_col1, #T_da8c4_row0_col2, #T_da8c4_row0_col3, #T_da8c4_row0_col4, #T_da8c4_row1_col0, #T_da8c4_row1_col1, #T_da8c4_row1_col2, #T_da8c4_row1_col4, #T_da8c4_row2_col0, #T_da8c4_row2_col1, #T_da8c4_row2_col2, #T_da8c4_row2_col3, #T_da8c4_row2_col4 {\n",
       "  background-color: khaki;\n",
       "  font-weight: bold;\n",
       "}\n",
       "#T_da8c4_row0_col5, #T_da8c4_row1_col5, #T_da8c4_row2_col5, #T_da8c4_row3_col5, #T_da8c4_row4_col5, #T_da8c4_row5_col5 {\n",
       "  background-color: coral;\n",
       "  font-style: italic;\n",
       "}\n",
       "#T_da8c4_row1_col3 {\n",
       "  background-color: lightskyblue;\n",
       "  text-decoration: underline;\n",
       "}\n",
       "</style>\n",
       "<table id=\"T_da8c4_\">\n",
       "  <thead>\n",
       "    <tr>\n",
       "      <th class=\"blank level0\" >&nbsp;</th>\n",
       "      <th class=\"col_heading level0 col0\" >Title</th>\n",
       "      <th class=\"col_heading level0 col1\" >Fans' Rank</th>\n",
       "      <th class=\"col_heading level0 col2\" >Year</th>\n",
       "      <th class=\"col_heading level0 col3\" >Director(s)</th>\n",
       "      <th class=\"col_heading level0 col4\" >Overall Rank</th>\n",
       "      <th class=\"col_heading level0 col5\" >Religion</th>\n",
       "      <th class=\"col_heading level0 col6\" >Actor</th>\n",
       "    </tr>\n",
       "  </thead>\n",
       "  <tbody>\n",
       "    <tr>\n",
       "      <th id=\"T_da8c4_level0_row0\" class=\"row_heading level0 row0\" >0</th>\n",
       "      <td id=\"T_da8c4_row0_col0\" class=\"data row0 col0\" >Citizen Kane</td>\n",
       "      <td id=\"T_da8c4_row0_col1\" class=\"data row0 col1\" >3</td>\n",
       "      <td id=\"T_da8c4_row0_col2\" class=\"data row0 col2\" >1941</td>\n",
       "      <td id=\"T_da8c4_row0_col3\" class=\"data row0 col3\" >Orson Welles</td>\n",
       "      <td id=\"T_da8c4_row0_col4\" class=\"data row0 col4\" >2</td>\n",
       "      <td id=\"T_da8c4_row0_col5\" class=\"data row0 col5\" >nan</td>\n",
       "      <td id=\"T_da8c4_row0_col6\" class=\"data row0 col6\" >Orson Welles</td>\n",
       "    </tr>\n",
       "    <tr>\n",
       "      <th id=\"T_da8c4_level0_row1\" class=\"row_heading level0 row1\" >1</th>\n",
       "      <td id=\"T_da8c4_row1_col0\" class=\"data row1 col0\" >Star Wars</td>\n",
       "      <td id=\"T_da8c4_row1_col1\" class=\"data row1 col1\" >5</td>\n",
       "      <td id=\"T_da8c4_row1_col2\" class=\"data row1 col2\" >1977</td>\n",
       "      <td id=\"T_da8c4_row1_col3\" class=\"data row1 col3\" >George Lucas</td>\n",
       "      <td id=\"T_da8c4_row1_col4\" class=\"data row1 col4\" >8</td>\n",
       "      <td id=\"T_da8c4_row1_col5\" class=\"data row1 col5\" >nan</td>\n",
       "      <td id=\"T_da8c4_row1_col6\" class=\"data row1 col6\" >nan</td>\n",
       "    </tr>\n",
       "    <tr>\n",
       "      <th id=\"T_da8c4_level0_row2\" class=\"row_heading level0 row2\" >2</th>\n",
       "      <td id=\"T_da8c4_row2_col0\" class=\"data row2 col0\" >Pulp Fiction</td>\n",
       "      <td id=\"T_da8c4_row2_col1\" class=\"data row2 col1\" >2</td>\n",
       "      <td id=\"T_da8c4_row2_col2\" class=\"data row2 col2\" >1994</td>\n",
       "      <td id=\"T_da8c4_row2_col3\" class=\"data row2 col3\" >Quentin Tarantino</td>\n",
       "      <td id=\"T_da8c4_row2_col4\" class=\"data row2 col4\" >15</td>\n",
       "      <td id=\"T_da8c4_row2_col5\" class=\"data row2 col5\" >Atheist</td>\n",
       "      <td id=\"T_da8c4_row2_col6\" class=\"data row2 col6\" >John Travolta</td>\n",
       "    </tr>\n",
       "    <tr>\n",
       "      <th id=\"T_da8c4_level0_row3\" class=\"row_heading level0 row3\" >3</th>\n",
       "      <td id=\"T_da8c4_row3_col0\" class=\"data row3 col0\" >Night of the Living Dead</td>\n",
       "      <td id=\"T_da8c4_row3_col1\" class=\"data row3 col1\" >229</td>\n",
       "      <td id=\"T_da8c4_row3_col2\" class=\"data row3 col2\" >1968</td>\n",
       "      <td id=\"T_da8c4_row3_col3\" class=\"data row3 col3\" >George A. Romero</td>\n",
       "      <td id=\"T_da8c4_row3_col4\" class=\"data row3 col4\" >139</td>\n",
       "      <td id=\"T_da8c4_row3_col5\" class=\"data row3 col5\" >Christian</td>\n",
       "      <td id=\"T_da8c4_row3_col6\" class=\"data row3 col6\" >nan</td>\n",
       "    </tr>\n",
       "    <tr>\n",
       "      <th id=\"T_da8c4_level0_row4\" class=\"row_heading level0 row4\" >4</th>\n",
       "      <td id=\"T_da8c4_row4_col0\" class=\"data row4 col0\" >Kill Bill: Vol. 2</td>\n",
       "      <td id=\"T_da8c4_row4_col1\" class=\"data row4 col1\" >224</td>\n",
       "      <td id=\"T_da8c4_row4_col2\" class=\"data row4 col2\" >2004</td>\n",
       "      <td id=\"T_da8c4_row4_col3\" class=\"data row4 col3\" >Quentin Tarantino</td>\n",
       "      <td id=\"T_da8c4_row4_col4\" class=\"data row4 col4\" >701</td>\n",
       "      <td id=\"T_da8c4_row4_col5\" class=\"data row4 col5\" >nan</td>\n",
       "      <td id=\"T_da8c4_row4_col6\" class=\"data row4 col6\" >nan</td>\n",
       "    </tr>\n",
       "    <tr>\n",
       "      <th id=\"T_da8c4_level0_row5\" class=\"row_heading level0 row5\" >5</th>\n",
       "      <td id=\"T_da8c4_row5_col0\" class=\"data row5 col0\" >O Brother, Where Art Thou?</td>\n",
       "      <td id=\"T_da8c4_row5_col1\" class=\"data row5 col1\" >232</td>\n",
       "      <td id=\"T_da8c4_row5_col2\" class=\"data row5 col2\" >2000</td>\n",
       "      <td id=\"T_da8c4_row5_col3\" class=\"data row5 col3\" >Joel Coen</td>\n",
       "      <td id=\"T_da8c4_row5_col4\" class=\"data row5 col4\" >776</td>\n",
       "      <td id=\"T_da8c4_row5_col5\" class=\"data row5 col5\" >Jewish</td>\n",
       "      <td id=\"T_da8c4_row5_col6\" class=\"data row5 col6\" >nan</td>\n",
       "    </tr>\n",
       "  </tbody>\n",
       "</table>\n"
      ],
      "text/plain": [
       "<pandas.io.formats.style.Styler at 0x7ff6bf4a2f10>"
      ]
     },
     "metadata": {},
     "output_type": "display_data"
    }
   ],
   "source": [
    "ranked_df = table_integrator.rank_tuples(df, rankCol='Overall Rank')\n",
    "ranked_df = utils.highlight_overlap_values_df(source_df, ranked_df, primary_key)\n",
    "display(ranked_df)"
   ]
  },
  {
   "cell_type": "code",
   "execution_count": 11,
   "metadata": {},
   "outputs": [
    {
     "data": {
      "text/html": [
       "<style type=\"text/css\">\n",
       "#T_fa752_row0_col0, #T_fa752_row0_col1, #T_fa752_row0_col2, #T_fa752_row0_col3, #T_fa752_row0_col4 {\n",
       "  background-color: khaki;\n",
       "  font-weight: bold;\n",
       "}\n",
       "#T_fa752_row0_col5, #T_fa752_row1_col5 {\n",
       "  background-color: coral;\n",
       "  font-style: italic;\n",
       "}\n",
       "</style>\n",
       "<table id=\"T_fa752_\">\n",
       "  <thead>\n",
       "    <tr>\n",
       "      <th class=\"blank level0\" >&nbsp;</th>\n",
       "      <th class=\"col_heading level0 col0\" >Title</th>\n",
       "      <th class=\"col_heading level0 col1\" >Fans' Rank</th>\n",
       "      <th class=\"col_heading level0 col2\" >Year</th>\n",
       "      <th class=\"col_heading level0 col3\" >Director(s)</th>\n",
       "      <th class=\"col_heading level0 col4\" >Overall Rank</th>\n",
       "      <th class=\"col_heading level0 col5\" >Religion</th>\n",
       "      <th class=\"col_heading level0 col6\" >Actor</th>\n",
       "    </tr>\n",
       "  </thead>\n",
       "  <tbody>\n",
       "    <tr>\n",
       "      <th id=\"T_fa752_level0_row0\" class=\"row_heading level0 row0\" >0</th>\n",
       "      <td id=\"T_fa752_row0_col0\" class=\"data row0 col0\" >Pulp Fiction</td>\n",
       "      <td id=\"T_fa752_row0_col1\" class=\"data row0 col1\" >2</td>\n",
       "      <td id=\"T_fa752_row0_col2\" class=\"data row0 col2\" >1994</td>\n",
       "      <td id=\"T_fa752_row0_col3\" class=\"data row0 col3\" >Quentin Tarantino</td>\n",
       "      <td id=\"T_fa752_row0_col4\" class=\"data row0 col4\" >15</td>\n",
       "      <td id=\"T_fa752_row0_col5\" class=\"data row0 col5\" >Atheist</td>\n",
       "      <td id=\"T_fa752_row0_col6\" class=\"data row0 col6\" >John Travolta</td>\n",
       "    </tr>\n",
       "    <tr>\n",
       "      <th id=\"T_fa752_level0_row1\" class=\"row_heading level0 row1\" >1</th>\n",
       "      <td id=\"T_fa752_row1_col0\" class=\"data row1 col0\" >Kill Bill: Vol. 2</td>\n",
       "      <td id=\"T_fa752_row1_col1\" class=\"data row1 col1\" >224</td>\n",
       "      <td id=\"T_fa752_row1_col2\" class=\"data row1 col2\" >2004</td>\n",
       "      <td id=\"T_fa752_row1_col3\" class=\"data row1 col3\" >Quentin Tarantino</td>\n",
       "      <td id=\"T_fa752_row1_col4\" class=\"data row1 col4\" >701</td>\n",
       "      <td id=\"T_fa752_row1_col5\" class=\"data row1 col5\" >nan</td>\n",
       "      <td id=\"T_fa752_row1_col6\" class=\"data row1 col6\" >nan</td>\n",
       "    </tr>\n",
       "  </tbody>\n",
       "</table>\n"
      ],
      "text/plain": [
       "<pandas.io.formats.style.Styler at 0x7ff6bf4a2b50>"
      ]
     },
     "metadata": {},
     "output_type": "display_data"
    }
   ],
   "source": [
    "filter_dict = {'Director(s)': ['Quentin Tarantino', 'Steven Spielberg'], \n",
    "               'Overall Rank': [i for i in range(1000)]}\n",
    "filtered_df = table_integrator.filter_tuples(df, filter_dict)\n",
    "filtered_df = utils.highlight_overlap_values_df(source_df, filtered_df, primary_key)\n",
    "display(filtered_df)"
   ]
  },
  {
   "cell_type": "code",
   "execution_count": 12,
   "metadata": {},
   "outputs": [
    {
     "data": {
      "text/html": [
       "<style type=\"text/css\">\n",
       "#T_6df23_row0_col0, #T_6df23_row0_col2, #T_6df23_row1_col0, #T_6df23_row1_col1, #T_6df23_row1_col2, #T_6df23_row1_col3, #T_6df23_row1_col4, #T_6df23_row2_col0, #T_6df23_row2_col2, #T_6df23_row2_col3, #T_6df23_row2_col4, #T_6df23_row3_col0, #T_6df23_row3_col1, #T_6df23_row3_col2, #T_6df23_row3_col3, #T_6df23_row3_col4, #T_6df23_row4_col0, #T_6df23_row4_col2, #T_6df23_row5_col0, #T_6df23_row5_col2, #T_6df23_row5_col3, #T_6df23_row5_col4, #T_6df23_row6_col0, #T_6df23_row6_col2, #T_6df23_row6_col4, #T_6df23_row7_col0, #T_6df23_row7_col1, #T_6df23_row7_col2, #T_6df23_row7_col4 {\n",
       "  background-color: khaki;\n",
       "  font-weight: bold;\n",
       "}\n",
       "#T_6df23_row0_col5, #T_6df23_row1_col5, #T_6df23_row2_col5, #T_6df23_row3_col5, #T_6df23_row4_col5, #T_6df23_row5_col5, #T_6df23_row6_col5, #T_6df23_row7_col5, #T_6df23_row8_col5, #T_6df23_row9_col5, #T_6df23_row10_col5 {\n",
       "  background-color: coral;\n",
       "  font-style: italic;\n",
       "}\n",
       "#T_6df23_row6_col3, #T_6df23_row7_col3 {\n",
       "  background-color: lightskyblue;\n",
       "  text-decoration: underline;\n",
       "}\n",
       "</style>\n",
       "<table id=\"T_6df23_\">\n",
       "  <thead>\n",
       "    <tr>\n",
       "      <th class=\"blank level0\" >&nbsp;</th>\n",
       "      <th class=\"col_heading level0 col0\" >Title</th>\n",
       "      <th class=\"col_heading level0 col1\" >Fans' Rank</th>\n",
       "      <th class=\"col_heading level0 col2\" >Year</th>\n",
       "      <th class=\"col_heading level0 col3\" >Director(s)</th>\n",
       "      <th class=\"col_heading level0 col4\" >Overall Rank</th>\n",
       "      <th class=\"col_heading level0 col5\" >Religion</th>\n",
       "      <th class=\"col_heading level0 col6\" >Actor</th>\n",
       "    </tr>\n",
       "  </thead>\n",
       "  <tbody>\n",
       "    <tr>\n",
       "      <th id=\"T_6df23_level0_row0\" class=\"row_heading level0 row0\" >0</th>\n",
       "      <td id=\"T_6df23_row0_col0\" class=\"data row0 col0\" >Pulp Fiction</td>\n",
       "      <td id=\"T_6df23_row0_col1\" class=\"data row0 col1\" >nan</td>\n",
       "      <td id=\"T_6df23_row0_col2\" class=\"data row0 col2\" >1994</td>\n",
       "      <td id=\"T_6df23_row0_col3\" class=\"data row0 col3\" >nan</td>\n",
       "      <td id=\"T_6df23_row0_col4\" class=\"data row0 col4\" >nan</td>\n",
       "      <td id=\"T_6df23_row0_col5\" class=\"data row0 col5\" >nan</td>\n",
       "      <td id=\"T_6df23_row0_col6\" class=\"data row0 col6\" >nan</td>\n",
       "    </tr>\n",
       "    <tr>\n",
       "      <th id=\"T_6df23_level0_row1\" class=\"row_heading level0 row1\" >1</th>\n",
       "      <td id=\"T_6df23_row1_col0\" class=\"data row1 col0\" >Pulp Fiction</td>\n",
       "      <td id=\"T_6df23_row1_col1\" class=\"data row1 col1\" >2</td>\n",
       "      <td id=\"T_6df23_row1_col2\" class=\"data row1 col2\" >1994</td>\n",
       "      <td id=\"T_6df23_row1_col3\" class=\"data row1 col3\" >Quentin Tarantino</td>\n",
       "      <td id=\"T_6df23_row1_col4\" class=\"data row1 col4\" >15</td>\n",
       "      <td id=\"T_6df23_row1_col5\" class=\"data row1 col5\" >Atheist</td>\n",
       "      <td id=\"T_6df23_row1_col6\" class=\"data row1 col6\" >nan</td>\n",
       "    </tr>\n",
       "    <tr>\n",
       "      <th id=\"T_6df23_level0_row2\" class=\"row_heading level0 row2\" >2</th>\n",
       "      <td id=\"T_6df23_row2_col0\" class=\"data row2 col0\" >Pulp Fiction</td>\n",
       "      <td id=\"T_6df23_row2_col1\" class=\"data row2 col1\" >nan</td>\n",
       "      <td id=\"T_6df23_row2_col2\" class=\"data row2 col2\" >1994</td>\n",
       "      <td id=\"T_6df23_row2_col3\" class=\"data row2 col3\" >Quentin Tarantino</td>\n",
       "      <td id=\"T_6df23_row2_col4\" class=\"data row2 col4\" >15</td>\n",
       "      <td id=\"T_6df23_row2_col5\" class=\"data row2 col5\" >nan</td>\n",
       "      <td id=\"T_6df23_row2_col6\" class=\"data row2 col6\" >John Travolta</td>\n",
       "    </tr>\n",
       "    <tr>\n",
       "      <th id=\"T_6df23_level0_row3\" class=\"row_heading level0 row3\" >3</th>\n",
       "      <td id=\"T_6df23_row3_col0\" class=\"data row3 col0\" >Citizen Kane</td>\n",
       "      <td id=\"T_6df23_row3_col1\" class=\"data row3 col1\" >3</td>\n",
       "      <td id=\"T_6df23_row3_col2\" class=\"data row3 col2\" >1941</td>\n",
       "      <td id=\"T_6df23_row3_col3\" class=\"data row3 col3\" >Orson Welles</td>\n",
       "      <td id=\"T_6df23_row3_col4\" class=\"data row3 col4\" >2</td>\n",
       "      <td id=\"T_6df23_row3_col5\" class=\"data row3 col5\" >nan</td>\n",
       "      <td id=\"T_6df23_row3_col6\" class=\"data row3 col6\" >nan</td>\n",
       "    </tr>\n",
       "    <tr>\n",
       "      <th id=\"T_6df23_level0_row4\" class=\"row_heading level0 row4\" >4</th>\n",
       "      <td id=\"T_6df23_row4_col0\" class=\"data row4 col0\" >Citizen Kane</td>\n",
       "      <td id=\"T_6df23_row4_col1\" class=\"data row4 col1\" >nan</td>\n",
       "      <td id=\"T_6df23_row4_col2\" class=\"data row4 col2\" >1941</td>\n",
       "      <td id=\"T_6df23_row4_col3\" class=\"data row4 col3\" >nan</td>\n",
       "      <td id=\"T_6df23_row4_col4\" class=\"data row4 col4\" >nan</td>\n",
       "      <td id=\"T_6df23_row4_col5\" class=\"data row4 col5\" >nan</td>\n",
       "      <td id=\"T_6df23_row4_col6\" class=\"data row4 col6\" >nan</td>\n",
       "    </tr>\n",
       "    <tr>\n",
       "      <th id=\"T_6df23_level0_row5\" class=\"row_heading level0 row5\" >5</th>\n",
       "      <td id=\"T_6df23_row5_col0\" class=\"data row5 col0\" >Citizen Kane</td>\n",
       "      <td id=\"T_6df23_row5_col1\" class=\"data row5 col1\" >nan</td>\n",
       "      <td id=\"T_6df23_row5_col2\" class=\"data row5 col2\" >1941</td>\n",
       "      <td id=\"T_6df23_row5_col3\" class=\"data row5 col3\" >Orson Welles</td>\n",
       "      <td id=\"T_6df23_row5_col4\" class=\"data row5 col4\" >2</td>\n",
       "      <td id=\"T_6df23_row5_col5\" class=\"data row5 col5\" >nan</td>\n",
       "      <td id=\"T_6df23_row5_col6\" class=\"data row5 col6\" >Orson Welles</td>\n",
       "    </tr>\n",
       "    <tr>\n",
       "      <th id=\"T_6df23_level0_row6\" class=\"row_heading level0 row6\" >6</th>\n",
       "      <td id=\"T_6df23_row6_col0\" class=\"data row6 col0\" >Star Wars</td>\n",
       "      <td id=\"T_6df23_row6_col1\" class=\"data row6 col1\" >nan</td>\n",
       "      <td id=\"T_6df23_row6_col2\" class=\"data row6 col2\" >1977</td>\n",
       "      <td id=\"T_6df23_row6_col3\" class=\"data row6 col3\" >George Lucas</td>\n",
       "      <td id=\"T_6df23_row6_col4\" class=\"data row6 col4\" >8</td>\n",
       "      <td id=\"T_6df23_row6_col5\" class=\"data row6 col5\" >nan</td>\n",
       "      <td id=\"T_6df23_row6_col6\" class=\"data row6 col6\" >nan</td>\n",
       "    </tr>\n",
       "    <tr>\n",
       "      <th id=\"T_6df23_level0_row7\" class=\"row_heading level0 row7\" >7</th>\n",
       "      <td id=\"T_6df23_row7_col0\" class=\"data row7 col0\" >Star Wars</td>\n",
       "      <td id=\"T_6df23_row7_col1\" class=\"data row7 col1\" >5</td>\n",
       "      <td id=\"T_6df23_row7_col2\" class=\"data row7 col2\" >1977</td>\n",
       "      <td id=\"T_6df23_row7_col3\" class=\"data row7 col3\" >George Lucas</td>\n",
       "      <td id=\"T_6df23_row7_col4\" class=\"data row7 col4\" >8</td>\n",
       "      <td id=\"T_6df23_row7_col5\" class=\"data row7 col5\" >nan</td>\n",
       "      <td id=\"T_6df23_row7_col6\" class=\"data row7 col6\" >nan</td>\n",
       "    </tr>\n",
       "    <tr>\n",
       "      <th id=\"T_6df23_level0_row8\" class=\"row_heading level0 row8\" >8</th>\n",
       "      <td id=\"T_6df23_row8_col0\" class=\"data row8 col0\" >Night of the Living Dead</td>\n",
       "      <td id=\"T_6df23_row8_col1\" class=\"data row8 col1\" >229</td>\n",
       "      <td id=\"T_6df23_row8_col2\" class=\"data row8 col2\" >1968</td>\n",
       "      <td id=\"T_6df23_row8_col3\" class=\"data row8 col3\" >George A. Romero</td>\n",
       "      <td id=\"T_6df23_row8_col4\" class=\"data row8 col4\" >139</td>\n",
       "      <td id=\"T_6df23_row8_col5\" class=\"data row8 col5\" >Christian</td>\n",
       "      <td id=\"T_6df23_row8_col6\" class=\"data row8 col6\" >nan</td>\n",
       "    </tr>\n",
       "    <tr>\n",
       "      <th id=\"T_6df23_level0_row9\" class=\"row_heading level0 row9\" >9</th>\n",
       "      <td id=\"T_6df23_row9_col0\" class=\"data row9 col0\" >O Brother, Where Art Thou?</td>\n",
       "      <td id=\"T_6df23_row9_col1\" class=\"data row9 col1\" >232</td>\n",
       "      <td id=\"T_6df23_row9_col2\" class=\"data row9 col2\" >2000</td>\n",
       "      <td id=\"T_6df23_row9_col3\" class=\"data row9 col3\" >Joel Coen</td>\n",
       "      <td id=\"T_6df23_row9_col4\" class=\"data row9 col4\" >776</td>\n",
       "      <td id=\"T_6df23_row9_col5\" class=\"data row9 col5\" >Jewish</td>\n",
       "      <td id=\"T_6df23_row9_col6\" class=\"data row9 col6\" >nan</td>\n",
       "    </tr>\n",
       "    <tr>\n",
       "      <th id=\"T_6df23_level0_row10\" class=\"row_heading level0 row10\" >10</th>\n",
       "      <td id=\"T_6df23_row10_col0\" class=\"data row10 col0\" >Kill Bill: Vol. 2</td>\n",
       "      <td id=\"T_6df23_row10_col1\" class=\"data row10 col1\" >224</td>\n",
       "      <td id=\"T_6df23_row10_col2\" class=\"data row10 col2\" >2004</td>\n",
       "      <td id=\"T_6df23_row10_col3\" class=\"data row10 col3\" >Quentin Tarantino</td>\n",
       "      <td id=\"T_6df23_row10_col4\" class=\"data row10 col4\" >701</td>\n",
       "      <td id=\"T_6df23_row10_col5\" class=\"data row10 col5\" >nan</td>\n",
       "      <td id=\"T_6df23_row10_col6\" class=\"data row10 col6\" >nan</td>\n",
       "    </tr>\n",
       "  </tbody>\n",
       "</table>\n"
      ],
      "text/plain": [
       "<pandas.io.formats.style.Styler at 0x7ff6bd608790>"
      ]
     },
     "metadata": {},
     "output_type": "display_data"
    }
   ],
   "source": [
    "# Outer join list of candidate tables retrieved from data lake\n",
    "# joined_df = utils.outerjoin(list(table_integrator.raw_tableDfs.values())) # originating tables\n",
    "joined_df = utils.outerjoin(list(originating_tables_finder.candidate_table_dfs.values())) # candidate tables\n",
    "joined_df = utils.order_rows_cols(source_df, primary_key, joined_df)\n",
    "# joined_df = utils.highlight_overlap_values_df(source_df, joined_df, primary_key)\n",
    "# '''\n",
    "# ==== Begin sample for paper\n",
    "joined_integ_df = joined_df.loc[joined_df[primary_key].isin(['Pulp Fiction', 'Citizen Kane', 'Star Wars'])]\n",
    "joined_expand_df = joined_df.loc[joined_df[primary_key].isin(['Night of the Living Dead', 'Kill Bill: Vol. 2', 'O Brother, Where Art Thou?'])]\n",
    "joined_df = pd.concat([joined_integ_df,joined_expand_df]).drop('Rank', axis=1)\n",
    "joined_df = joined_df[df.columns]\n",
    "joined_df = utils.highlight_overlap_values_df(source_df, joined_df, primary_key) # for sample in paper\n",
    "# '''\n",
    "display(joined_df)"
   ]
  }
 ],
 "metadata": {
  "kernelspec": {
   "display_name": "sdd",
   "language": "python",
   "name": "python3"
  },
  "language_info": {
   "codemirror_mode": {
    "name": "ipython",
    "version": 3
   },
   "file_extension": ".py",
   "mimetype": "text/x-python",
   "name": "python",
   "nbconvert_exporter": "python",
   "pygments_lexer": "ipython3",
   "version": "3.7.10"
  }
 },
 "nbformat": 4,
 "nbformat_minor": 2
}
